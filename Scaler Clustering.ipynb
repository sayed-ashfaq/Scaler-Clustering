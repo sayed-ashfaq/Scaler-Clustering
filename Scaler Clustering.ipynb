{
 "cells": [
  {
   "cell_type": "markdown",
   "id": "6644ad23-4507-431e-9b20-42b74a0fed68",
   "metadata": {},
   "source": [
    "# Business Case: Scaler Clustering\n",
    "## Grouping learners based on backgrounds for more personalized Learning...\n",
    "### Context\n",
    "Scaler is an online tech-versity offering intensive computer science & Data Science courses through live classes delivered by tech leaders and subject matter experts. The meticulously structured program enhances the skills of software professionals by offering a modern curriculum with exposure to the latest technologies. It is a product by InterviewBit.\n",
    "\n",
    "Scaler, as an emerging tech-versity, endeavors to provide world-class education in computer science & data science domains.A significant challenge for Scaler is understanding the diverse backgrounds of its learners, especially in terms of their current roles, companies, and experience.\n",
    "\n",
    "\n",
    "\n",
    "\n",
    ">**Problem Type:** `Unsupervised Learning (Clustering)`\n",
    "\n",
    "### Problem Statement:\n",
    "\n",
    " **Clustering similar learners helps in customizing the learning experience, thereby\n",
    "increasing retention and satisfaction.**\n",
    "\n",
    "As a data scientist with the analytics vertical of Scaler, focusing on `profiling the best companies and job positions` to work for from the Scaler database. You are provided with the information for a segment of learners and tasked to `cluster them on the basis of their job profile, company, and other features`. Ideally, these clusters should have similar characteristics.\n",
    "\n",
    " ### How we do it:\n",
    " - Analyzing the vast data of learners can uncover patterns in their professional\n",
    " backgrounds and preferences. This allows Scaler to make tailored content\n",
    " recommendations and provide specialized mentorship.\n",
    " - By leveraging data science and unsupervised learning, particularly clustering\n",
    " techniques, Scaler can group learners with similar profiles, aiding in delivering a\n",
    " more personalized learning journey.\n",
    "\n",
    "### Resources: \n",
    "- `Unnamed 0` - Index of the dataset\n",
    "- `Email_hash` - Anonymised Personal Identifiable Information (PII)\n",
    "- `Company_hash` - This represents an anonymized identifier for the company, which is the current employer of the learner.\n",
    "- `orgyear` -  Represents the year the learner began employment at the current company.\n",
    "- `CTC` - Current CTC\n",
    "- `Job_position` - Job profile in the company\n",
    "- `CTC_updated_year` - Year in which CTC got updated (Yearly increments, Promotions)\n",
    "\n",
    "### Concepts Used: \n",
    "- PCA, Tsne, Hypothesis testing, correlation(pearson/spearman), EDA, plotly, kmeans, kmean++, DBSCAN, hirarchial.\n",
    "- Note: Above concepts are currently assumptions, might add/remove later."
   ]
  },
  {
   "cell_type": "code",
   "execution_count": 73,
   "id": "ea51309e-3866-40a5-93fe-149c0f1005c0",
   "metadata": {},
   "outputs": [],
   "source": [
    "import pandas as pd\n",
    "import numpy as np\n",
    "import matplotlib.pyplot as plt\n",
    "import seaborn as sns\n",
    "\n",
    "import warnings\n",
    "warnings.filterwarnings(\"ignore\")"
   ]
  },
  {
   "cell_type": "code",
   "execution_count": 123,
   "id": "03bf9bb5-7b57-4fdd-bcba-87d7c7025451",
   "metadata": {},
   "outputs": [
    {
     "data": {
      "text/html": [
       "<div>\n",
       "<style scoped>\n",
       "    .dataframe tbody tr th:only-of-type {\n",
       "        vertical-align: middle;\n",
       "    }\n",
       "\n",
       "    .dataframe tbody tr th {\n",
       "        vertical-align: top;\n",
       "    }\n",
       "\n",
       "    .dataframe thead th {\n",
       "        text-align: right;\n",
       "    }\n",
       "</style>\n",
       "<table border=\"1\" class=\"dataframe\">\n",
       "  <thead>\n",
       "    <tr style=\"text-align: right;\">\n",
       "      <th></th>\n",
       "      <th>company_hash</th>\n",
       "      <th>email_hash</th>\n",
       "      <th>orgyear</th>\n",
       "      <th>ctc</th>\n",
       "      <th>job_position</th>\n",
       "      <th>ctc_updated_year</th>\n",
       "    </tr>\n",
       "  </thead>\n",
       "  <tbody>\n",
       "    <tr>\n",
       "      <th>0</th>\n",
       "      <td>atrgxnnt xzaxv</td>\n",
       "      <td>6de0a4417d18ab14334c3f43397fc13b30c35149d70c05...</td>\n",
       "      <td>2016.0</td>\n",
       "      <td>1100000</td>\n",
       "      <td>Other</td>\n",
       "      <td>2020.0</td>\n",
       "    </tr>\n",
       "    <tr>\n",
       "      <th>1</th>\n",
       "      <td>qtrxvzwt xzegwgbb rxbxnta</td>\n",
       "      <td>b0aaf1ac138b53cb6e039ba2c3d6604a250d02d5145c10...</td>\n",
       "      <td>2018.0</td>\n",
       "      <td>449999</td>\n",
       "      <td>FullStack Engineer</td>\n",
       "      <td>2019.0</td>\n",
       "    </tr>\n",
       "    <tr>\n",
       "      <th>2</th>\n",
       "      <td>ojzwnvwnxw vx</td>\n",
       "      <td>4860c670bcd48fb96c02a4b0ae3608ae6fdd98176112e9...</td>\n",
       "      <td>2015.0</td>\n",
       "      <td>2000000</td>\n",
       "      <td>Backend Engineer</td>\n",
       "      <td>2020.0</td>\n",
       "    </tr>\n",
       "    <tr>\n",
       "      <th>3</th>\n",
       "      <td>ngpgutaxv</td>\n",
       "      <td>effdede7a2e7c2af664c8a31d9346385016128d66bbc58...</td>\n",
       "      <td>2017.0</td>\n",
       "      <td>700000</td>\n",
       "      <td>Backend Engineer</td>\n",
       "      <td>2019.0</td>\n",
       "    </tr>\n",
       "    <tr>\n",
       "      <th>4</th>\n",
       "      <td>qxen sqghu</td>\n",
       "      <td>6ff54e709262f55cb999a1c1db8436cb2055d8f79ab520...</td>\n",
       "      <td>2017.0</td>\n",
       "      <td>1400000</td>\n",
       "      <td>FullStack Engineer</td>\n",
       "      <td>2019.0</td>\n",
       "    </tr>\n",
       "  </tbody>\n",
       "</table>\n",
       "</div>"
      ],
      "text/plain": [
       "                company_hash  \\\n",
       "0             atrgxnnt xzaxv   \n",
       "1  qtrxvzwt xzegwgbb rxbxnta   \n",
       "2              ojzwnvwnxw vx   \n",
       "3                  ngpgutaxv   \n",
       "4                 qxen sqghu   \n",
       "\n",
       "                                          email_hash  orgyear      ctc  \\\n",
       "0  6de0a4417d18ab14334c3f43397fc13b30c35149d70c05...   2016.0  1100000   \n",
       "1  b0aaf1ac138b53cb6e039ba2c3d6604a250d02d5145c10...   2018.0   449999   \n",
       "2  4860c670bcd48fb96c02a4b0ae3608ae6fdd98176112e9...   2015.0  2000000   \n",
       "3  effdede7a2e7c2af664c8a31d9346385016128d66bbc58...   2017.0   700000   \n",
       "4  6ff54e709262f55cb999a1c1db8436cb2055d8f79ab520...   2017.0  1400000   \n",
       "\n",
       "         job_position  ctc_updated_year  \n",
       "0               Other            2020.0  \n",
       "1  FullStack Engineer            2019.0  \n",
       "2    Backend Engineer            2020.0  \n",
       "3    Backend Engineer            2019.0  \n",
       "4  FullStack Engineer            2019.0  "
      ]
     },
     "execution_count": 123,
     "metadata": {},
     "output_type": "execute_result"
    }
   ],
   "source": [
    "original_data= pd.read_csv(\"scaler_clustering.csv\",index_col= 0) # setting the first column as the index\n",
    "df = original_data.copy(deep = True) # creating deep copy to play with data while keeping original intact.\n",
    "df.head()"
   ]
  },
  {
   "cell_type": "markdown",
   "id": "58208eb4-34fb-43ec-8d3b-c99f1ba84592",
   "metadata": {
    "jp-MarkdownHeadingCollapsed": true
   },
   "source": [
    "## Basic understading of the Dataset\n",
    "- shape (No. of rows and columns)\n",
    "- Data types (Numeric, Categorical, date/time)\n",
    "- Nulls, duplicates, outliers, inconsistent formats\n",
    "- Summarizing the data understanding"
   ]
  },
  {
   "cell_type": "code",
   "execution_count": 124,
   "id": "05e3d68a-f677-430e-9ce9-ffc50c05f0d3",
   "metadata": {},
   "outputs": [
    {
     "name": "stdout",
     "output_type": "stream",
     "text": [
      "Rows in the dataset: 205843\n",
      "Columns in the dataset: 6\n"
     ]
    }
   ],
   "source": [
    "# data shape\n",
    "print(f\"Rows in the dataset: {df.shape[0]}\")\n",
    "print(f\"Columns in the dataset: {df.shape[1]}\")"
   ]
  },
  {
   "cell_type": "code",
   "execution_count": 125,
   "id": "ff0a0198-c0e3-4d56-b1ce-f0d4db98b093",
   "metadata": {},
   "outputs": [
    {
     "name": "stdout",
     "output_type": "stream",
     "text": [
      "<class 'pandas.core.frame.DataFrame'>\n",
      "Index: 205843 entries, 0 to 206922\n",
      "Data columns (total 6 columns):\n",
      " #   Column            Non-Null Count   Dtype  \n",
      "---  ------            --------------   -----  \n",
      " 0   company_hash      205799 non-null  object \n",
      " 1   email_hash        205843 non-null  object \n",
      " 2   orgyear           205757 non-null  float64\n",
      " 3   ctc               205843 non-null  int64  \n",
      " 4   job_position      153279 non-null  object \n",
      " 5   ctc_updated_year  205843 non-null  float64\n",
      "dtypes: float64(2), int64(1), object(3)\n",
      "memory usage: 11.0+ MB\n"
     ]
    }
   ],
   "source": [
    "# verify column names and data types\n",
    "df.info()"
   ]
  },
  {
   "cell_type": "code",
   "execution_count": 126,
   "id": "4d5e3cc8-7ab9-4912-adba-3cf5c9f4f612",
   "metadata": {},
   "outputs": [
    {
     "name": "stdout",
     "output_type": "stream",
     "text": [
      "Duplicated records:  34\n"
     ]
    }
   ],
   "source": [
    "# Find duplicate rows\n",
    "print(\"Duplicated records: \",df.duplicated().sum())"
   ]
  },
  {
   "cell_type": "code",
   "execution_count": 127,
   "id": "b460c3f7-2055-40de-85dd-b4b2029f918c",
   "metadata": {},
   "outputs": [
    {
     "name": "stdout",
     "output_type": "stream",
     "text": [
      "Duplicated records:  0\n"
     ]
    }
   ],
   "source": [
    "df.drop_duplicates(inplace=True)\n",
    "print(\"Duplicated records: \",df.duplicated().sum())"
   ]
  },
  {
   "cell_type": "code",
   "execution_count": 128,
   "id": "4ed2f9b4-0b5e-46de-8083-93fa80577bc2",
   "metadata": {},
   "outputs": [
    {
     "name": "stdout",
     "output_type": "stream",
     "text": [
      "Null count in each column\n"
     ]
    },
    {
     "data": {
      "text/plain": [
       "company_hash           44\n",
       "email_hash              0\n",
       "orgyear                86\n",
       "ctc                     0\n",
       "job_position        52548\n",
       "ctc_updated_year        0\n",
       "dtype: int64"
      ]
     },
     "execution_count": 128,
     "metadata": {},
     "output_type": "execute_result"
    }
   ],
   "source": [
    "# Null values\n",
    "print(\"Null count in each column\")\n",
    "df.isna().sum()"
   ]
  },
  {
   "cell_type": "code",
   "execution_count": 129,
   "id": "d9e406ba-7f9e-4aef-8321-e68aaf8d6c97",
   "metadata": {},
   "outputs": [
    {
     "data": {
      "text/html": [
       "<div>\n",
       "<style scoped>\n",
       "    .dataframe tbody tr th:only-of-type {\n",
       "        vertical-align: middle;\n",
       "    }\n",
       "\n",
       "    .dataframe tbody tr th {\n",
       "        vertical-align: top;\n",
       "    }\n",
       "\n",
       "    .dataframe thead th {\n",
       "        text-align: right;\n",
       "    }\n",
       "</style>\n",
       "<table border=\"1\" class=\"dataframe\">\n",
       "  <thead>\n",
       "    <tr style=\"text-align: right;\">\n",
       "      <th></th>\n",
       "      <th>orgyear</th>\n",
       "      <th>ctc</th>\n",
       "      <th>ctc_updated_year</th>\n",
       "    </tr>\n",
       "  </thead>\n",
       "  <tbody>\n",
       "    <tr>\n",
       "      <th>count</th>\n",
       "      <td>205723.000000</td>\n",
       "      <td>2.058090e+05</td>\n",
       "      <td>205809.000000</td>\n",
       "    </tr>\n",
       "    <tr>\n",
       "      <th>mean</th>\n",
       "      <td>2014.882264</td>\n",
       "      <td>2.271862e+06</td>\n",
       "      <td>2019.628272</td>\n",
       "    </tr>\n",
       "    <tr>\n",
       "      <th>std</th>\n",
       "      <td>63.576352</td>\n",
       "      <td>1.180187e+07</td>\n",
       "      <td>1.325187</td>\n",
       "    </tr>\n",
       "    <tr>\n",
       "      <th>min</th>\n",
       "      <td>0.000000</td>\n",
       "      <td>2.000000e+00</td>\n",
       "      <td>2015.000000</td>\n",
       "    </tr>\n",
       "    <tr>\n",
       "      <th>25%</th>\n",
       "      <td>2013.000000</td>\n",
       "      <td>5.300000e+05</td>\n",
       "      <td>2019.000000</td>\n",
       "    </tr>\n",
       "    <tr>\n",
       "      <th>50%</th>\n",
       "      <td>2016.000000</td>\n",
       "      <td>9.500000e+05</td>\n",
       "      <td>2020.000000</td>\n",
       "    </tr>\n",
       "    <tr>\n",
       "      <th>75%</th>\n",
       "      <td>2018.000000</td>\n",
       "      <td>1.700000e+06</td>\n",
       "      <td>2021.000000</td>\n",
       "    </tr>\n",
       "    <tr>\n",
       "      <th>max</th>\n",
       "      <td>20165.000000</td>\n",
       "      <td>1.000150e+09</td>\n",
       "      <td>2021.000000</td>\n",
       "    </tr>\n",
       "  </tbody>\n",
       "</table>\n",
       "</div>"
      ],
      "text/plain": [
       "             orgyear           ctc  ctc_updated_year\n",
       "count  205723.000000  2.058090e+05     205809.000000\n",
       "mean     2014.882264  2.271862e+06       2019.628272\n",
       "std        63.576352  1.180187e+07          1.325187\n",
       "min         0.000000  2.000000e+00       2015.000000\n",
       "25%      2013.000000  5.300000e+05       2019.000000\n",
       "50%      2016.000000  9.500000e+05       2020.000000\n",
       "75%      2018.000000  1.700000e+06       2021.000000\n",
       "max     20165.000000  1.000150e+09       2021.000000"
      ]
     },
     "execution_count": 129,
     "metadata": {},
     "output_type": "execute_result"
    }
   ],
   "source": [
    "# descritive statistics of numerical columns\n",
    "df.describe()"
   ]
  },
  {
   "cell_type": "code",
   "execution_count": 130,
   "id": "359db521-ed92-4659-bf27-ed841e734cae",
   "metadata": {},
   "outputs": [
    {
     "name": "stdout",
     "output_type": "stream",
     "text": [
      "--------------------------------------------------------------------------------\n",
      "🔹 Column Name       : company_hash\n",
      "🔸 Data Type         : object\n",
      "❌ Total Null Values : 44 (0.02%)\n",
      "🔢 Unique Values     : 37299\n",
      "--------------------------------------------------------------------------------\n",
      "\n",
      "--------------------------------------------------------------------------------\n",
      "🔹 Column Name       : email_hash\n",
      "🔸 Data Type         : object\n",
      "❌ Total Null Values : 0 (0.00%)\n",
      "🔢 Unique Values     : 153443\n",
      "--------------------------------------------------------------------------------\n",
      "\n",
      "--------------------------------------------------------------------------------\n",
      "🔹 Column Name       : orgyear\n",
      "🔸 Data Type         : float64\n",
      "❌ Total Null Values : 86 (0.04%)\n",
      "🔢 Unique Values     : 77\n",
      "📏 Range             : 0.0 - 20165.0.\n",
      "📊 Average           : 2014.88\n",
      "--------------------------------------------------------------------------------\n",
      "\n",
      "--------------------------------------------------------------------------------\n",
      "🔹 Column Name       : ctc\n",
      "🔸 Data Type         : int64\n",
      "❌ Total Null Values : 0 (0.00%)\n",
      "🔢 Unique Values     : 3360\n",
      "📏 Range             : 2 - 1000150000.\n",
      "📊 Average           : 2271862.26\n",
      "--------------------------------------------------------------------------------\n",
      "\n",
      "--------------------------------------------------------------------------------\n",
      "🔹 Column Name       : job_position\n",
      "🔸 Data Type         : object\n",
      "❌ Total Null Values : 52548 (25.53%)\n",
      "🔢 Unique Values     : 1016\n",
      "--------------------------------------------------------------------------------\n",
      "\n",
      "--------------------------------------------------------------------------------\n",
      "🔹 Column Name       : ctc_updated_year\n",
      "🔸 Data Type         : float64\n",
      "❌ Total Null Values : 0 (0.00%)\n",
      "🔢 Unique Values     : 7\n",
      "📏 Range             : 2015.0 - 2021.0.\n",
      "📊 Average           : 2019.63\n",
      "--------------------------------------------------------------------------------\n",
      "\n"
     ]
    }
   ],
   "source": [
    "def column_summary(data, col, uni_len=13):\n",
    "    \"\"\"\n",
    "    Column Summarizer Utility\n",
    "    \n",
    "    Displays key statistics for column in the DataFrame:\n",
    "    - Column name and data type\n",
    "    - Null value count and percentage\n",
    "    - Number of unique values\n",
    "    - Value counts (if column is categorical or has unique values <= uni_lens)\n",
    "    \n",
    "    Parameters:\n",
    "    - data: Pandas DataFrame\n",
    "    - col: Column name (string)\n",
    "    - uni_lens: Threshold for displaying value counts (int)\n",
    "    \"\"\"\n",
    "    \n",
    "    print(\"--\" * 40)\n",
    "    print(f\"🔹 Column Name       : {col}\")\n",
    "    print(f\"🔸 Data Type         : {data[col].dtype}\")\n",
    "    \n",
    "    total_null = data[col].isnull().sum()\n",
    "    null_percent = (total_null / len(data)) * 100\n",
    "    print(f\"❌ Total Null Values : {total_null} ({null_percent:.2f}%)\")\n",
    "    \n",
    "    unique_vals = data[col].nunique()\n",
    "    print(f\"🔢 Unique Values     : {unique_vals}\")\n",
    "    \n",
    "    # Display unique values and value counts if categorical or low cardinality\n",
    "    if data[col].dtype in ('object', 'category') and unique_vals < uni_len:\n",
    "        print(f\"\\n📊 Value Counts:\\n{data[col].value_counts(dropna=False)}\")\n",
    "\n",
    "    \n",
    "    # Display range (min - max) if the col is Numerical\n",
    "    if data[col].dtype in ('int64', 'float64'):\n",
    "        print(f\"📏 Range             : {data[col].min()} - {data[col].max()}.\")\n",
    "        print(f\"📊 Average           : {np.round(data[col].mean(),2)}\")\n",
    "        \n",
    "    \n",
    "    print(\"--\" * 40 + \"\\n\")\n",
    "\n",
    "\n",
    "# Apply it to all columns\n",
    "for col in df.columns:\n",
    "    column_summary(df, col, uni_len=10)\n"
   ]
  },
  {
   "cell_type": "markdown",
   "id": "9678b47f-2560-4b74-bb5d-a9d9268416a8",
   "metadata": {},
   "source": [
    "### Summarizing the data understanding:\n",
    "- `Dataset`: 205843 Rows and 6 columns\n",
    "- `Columns`: 3 Numerical(2 date), 3 categorical\n",
    "- `Unique Learners`: 153443 Learners (Assuming unique email for each learner)\n",
    "    - Need to remove the repeated email id by summing up experience and keeping the latest one\n",
    "- `Missing values`: company hash(0.02%), org_year(0.04%) - Easily removable, job_position(25.53%) - Analysis and cure\n",
    "- `Notes`: When we check the range there are anomolies\n",
    "    - `ctc` = 2 (May be 2 lacs) | `ctc` = 1,00,01,50,000 (100crs? are you serious?)\n",
    "    - `orgyear` == 0(Did he joined right after his birth or what :D, `orgyear` == 20165(immortal :o))"
   ]
  },
  {
   "cell_type": "markdown",
   "id": "0f3c638a-c720-46bd-a245-02d36d907650",
   "metadata": {
    "jp-MarkdownHeadingCollapsed": true
   },
   "source": [
    "## Data Cleaning\n",
    "- Analying importance and treating null values accordingly\n",
    "- Fixing data entry issues - casing/similar meaning names"
   ]
  },
  {
   "cell_type": "code",
   "execution_count": 131,
   "id": "27488491-9421-45bd-a945-fd3a17dfe772",
   "metadata": {},
   "outputs": [
    {
     "data": {
      "text/plain": [
       "company_hash           44\n",
       "email_hash              0\n",
       "orgyear                86\n",
       "ctc                     0\n",
       "job_position        52548\n",
       "ctc_updated_year        0\n",
       "dtype: int64"
      ]
     },
     "execution_count": 131,
     "metadata": {},
     "output_type": "execute_result"
    }
   ],
   "source": [
    "df.isna().sum()"
   ]
  },
  {
   "cell_type": "markdown",
   "id": "21099c96-cba5-408a-beda-ff693e7b9f64",
   "metadata": {},
   "source": [
    "- Removing the null values that are less than 1% percent - You might get a doubt that they can be freshers, as ctc_updated is not null there are no freshers in the dataset.\n",
    "- Just in case if i am wrong then for fresher company and orgyear and ctc_updated_year and job_position should be null.\n",
    "- we can try with features with null values"
   ]
  },
  {
   "cell_type": "code",
   "execution_count": 132,
   "id": "d71dcbff-0d5a-4e44-8746-eccb89abbcf1",
   "metadata": {},
   "outputs": [
    {
     "data": {
      "text/html": [
       "<div>\n",
       "<style scoped>\n",
       "    .dataframe tbody tr th:only-of-type {\n",
       "        vertical-align: middle;\n",
       "    }\n",
       "\n",
       "    .dataframe tbody tr th {\n",
       "        vertical-align: top;\n",
       "    }\n",
       "\n",
       "    .dataframe thead th {\n",
       "        text-align: right;\n",
       "    }\n",
       "</style>\n",
       "<table border=\"1\" class=\"dataframe\">\n",
       "  <thead>\n",
       "    <tr style=\"text-align: right;\">\n",
       "      <th></th>\n",
       "      <th>company_hash</th>\n",
       "      <th>email_hash</th>\n",
       "      <th>orgyear</th>\n",
       "      <th>ctc</th>\n",
       "      <th>job_position</th>\n",
       "      <th>ctc_updated_year</th>\n",
       "    </tr>\n",
       "  </thead>\n",
       "  <tbody>\n",
       "  </tbody>\n",
       "</table>\n",
       "</div>"
      ],
      "text/plain": [
       "Empty DataFrame\n",
       "Columns: [company_hash, email_hash, orgyear, ctc, job_position, ctc_updated_year]\n",
       "Index: []"
      ]
     },
     "execution_count": 132,
     "metadata": {},
     "output_type": "execute_result"
    }
   ],
   "source": [
    "fresher_count= df[(df[\"company_hash\"].isna()) & (df['orgyear'].isna())]\n",
    "fresher_count"
   ]
  },
  {
   "cell_type": "markdown",
   "id": "715425c8-0e7b-48d4-91b4-7e5d5ab51344",
   "metadata": {},
   "source": [
    "- By the definition of freshers we do not have them in our dataset"
   ]
  },
  {
   "cell_type": "code",
   "execution_count": 133,
   "id": "6acb360f-6b1c-43bd-ba1d-4ceea27c79b0",
   "metadata": {},
   "outputs": [
    {
     "data": {
      "text/plain": [
       "(205679, 6)"
      ]
     },
     "execution_count": 133,
     "metadata": {},
     "output_type": "execute_result"
    }
   ],
   "source": [
    "# removing the null values that are less than 1% percent\n",
    "\n",
    "df = df.dropna(subset= ['company_hash', 'orgyear'])\n",
    "df.shape"
   ]
  },
  {
   "cell_type": "code",
   "execution_count": 134,
   "id": "d6dde8d6-b986-4738-b538-c9611199dcd9",
   "metadata": {},
   "outputs": [
    {
     "data": {
      "text/plain": [
       "110"
      ]
     },
     "execution_count": 134,
     "metadata": {},
     "output_type": "execute_result"
    }
   ],
   "source": [
    "# iam losing 110 students out of 2,05,843.\n",
    "\n",
    "original_data['email_hash'].nunique() - df['email_hash'].nunique()"
   ]
  },
  {
   "cell_type": "code",
   "execution_count": 135,
   "id": "87b80d18-8082-4dcf-b5ef-54fce2c42fbd",
   "metadata": {},
   "outputs": [
    {
     "data": {
      "text/plain": [
       "1016"
      ]
     },
     "execution_count": 135,
     "metadata": {},
     "output_type": "execute_result"
    }
   ],
   "source": [
    "df['job_position'].nunique()"
   ]
  },
  {
   "cell_type": "code",
   "execution_count": 136,
   "id": "19aa1ba6-974c-497f-99b9-aed7833b7631",
   "metadata": {},
   "outputs": [
    {
     "data": {
      "text/plain": [
       "943"
      ]
     },
     "execution_count": 136,
     "metadata": {},
     "output_type": "execute_result"
    }
   ],
   "source": [
    "# Cleaning jobposition - 1/4th data is null, 1016 unique values\n",
    "\n",
    "df['job_position'] = df['job_position'].str.lower()\n",
    "df['job_position'].nunique()"
   ]
  },
  {
   "cell_type": "code",
   "execution_count": 137,
   "id": "1a1dfa8a-1d3b-495a-b7b0-77b5bd5bcb7d",
   "metadata": {},
   "outputs": [
    {
     "data": {
      "text/plain": [
       "job_position\n",
       "backend engineer          43532\n",
       "fullstack engineer        25965\n",
       "other                     18058\n",
       "frontend engineer         10412\n",
       "engineering leadership     6867\n",
       "Name: count, dtype: int64"
      ]
     },
     "execution_count": 137,
     "metadata": {},
     "output_type": "execute_result"
    }
   ],
   "source": [
    "df['job_position'].value_counts().head()"
   ]
  },
  {
   "cell_type": "markdown",
   "id": "947c11ab-19fd-4d1c-afa9-65e723e21012",
   "metadata": {},
   "source": [
    "- even though the cardinality(unique names) slightly decreased (-73) but there is lot of similar names in the column.\n",
    "- For now let's ignore and foucs time on next steps."
   ]
  },
  {
   "cell_type": "code",
   "execution_count": 139,
   "id": "2cf21ae3-1984-474c-9d29-9e3287f7a48b",
   "metadata": {},
   "outputs": [
    {
     "data": {
      "text/html": [
       "<div>\n",
       "<style scoped>\n",
       "    .dataframe tbody tr th:only-of-type {\n",
       "        vertical-align: middle;\n",
       "    }\n",
       "\n",
       "    .dataframe tbody tr th {\n",
       "        vertical-align: top;\n",
       "    }\n",
       "\n",
       "    .dataframe thead th {\n",
       "        text-align: right;\n",
       "    }\n",
       "</style>\n",
       "<table border=\"1\" class=\"dataframe\">\n",
       "  <thead>\n",
       "    <tr style=\"text-align: right;\">\n",
       "      <th></th>\n",
       "      <th>company_hash</th>\n",
       "      <th>email_hash</th>\n",
       "      <th>orgyear</th>\n",
       "      <th>ctc</th>\n",
       "      <th>job_position</th>\n",
       "      <th>ctc_updated_year</th>\n",
       "    </tr>\n",
       "  </thead>\n",
       "  <tbody>\n",
       "    <tr>\n",
       "      <th>8</th>\n",
       "      <td>utqoxontzn ojontbo</td>\n",
       "      <td>e245da546bf50eba09cb7c9976926bd56557d1ac9a17fb...</td>\n",
       "      <td>2020.0</td>\n",
       "      <td>450000</td>\n",
       "      <td>NaN</td>\n",
       "      <td>2019.0</td>\n",
       "    </tr>\n",
       "    <tr>\n",
       "      <th>9</th>\n",
       "      <td>xrbhd</td>\n",
       "      <td>b2dc928f4c22a9860b4a427efb8ab761e1ce0015fba1a5...</td>\n",
       "      <td>2019.0</td>\n",
       "      <td>360000</td>\n",
       "      <td>NaN</td>\n",
       "      <td>2019.0</td>\n",
       "    </tr>\n",
       "    <tr>\n",
       "      <th>12</th>\n",
       "      <td>mvqwrvjo wgqugqvnt mvzpxzs</td>\n",
       "      <td>7f24d2f5171ea469482a9966832237bc023678883ecd0c...</td>\n",
       "      <td>2020.0</td>\n",
       "      <td>800000</td>\n",
       "      <td>NaN</td>\n",
       "      <td>2020.0</td>\n",
       "    </tr>\n",
       "    <tr>\n",
       "      <th>17</th>\n",
       "      <td>puxn</td>\n",
       "      <td>26b502eb6439ac80bd618a6f7c2b1c640b84c1e64c472c...</td>\n",
       "      <td>2020.0</td>\n",
       "      <td>1400000</td>\n",
       "      <td>NaN</td>\n",
       "      <td>2019.0</td>\n",
       "    </tr>\n",
       "    <tr>\n",
       "      <th>18</th>\n",
       "      <td>mvlvl exzotqc</td>\n",
       "      <td>62d2e04b44c8bf2f6ec15d5b4c259c06199f598dc51816...</td>\n",
       "      <td>2018.0</td>\n",
       "      <td>100000</td>\n",
       "      <td>NaN</td>\n",
       "      <td>2021.0</td>\n",
       "    </tr>\n",
       "  </tbody>\n",
       "</table>\n",
       "</div>"
      ],
      "text/plain": [
       "                  company_hash  \\\n",
       "8           utqoxontzn ojontbo   \n",
       "9                        xrbhd   \n",
       "12  mvqwrvjo wgqugqvnt mvzpxzs   \n",
       "17                        puxn   \n",
       "18               mvlvl exzotqc   \n",
       "\n",
       "                                           email_hash  orgyear      ctc  \\\n",
       "8   e245da546bf50eba09cb7c9976926bd56557d1ac9a17fb...   2020.0   450000   \n",
       "9   b2dc928f4c22a9860b4a427efb8ab761e1ce0015fba1a5...   2019.0   360000   \n",
       "12  7f24d2f5171ea469482a9966832237bc023678883ecd0c...   2020.0   800000   \n",
       "17  26b502eb6439ac80bd618a6f7c2b1c640b84c1e64c472c...   2020.0  1400000   \n",
       "18  62d2e04b44c8bf2f6ec15d5b4c259c06199f598dc51816...   2018.0   100000   \n",
       "\n",
       "   job_position  ctc_updated_year  \n",
       "8           NaN            2019.0  \n",
       "9           NaN            2019.0  \n",
       "12          NaN            2020.0  \n",
       "17          NaN            2019.0  \n",
       "18          NaN            2021.0  "
      ]
     },
     "execution_count": 139,
     "metadata": {},
     "output_type": "execute_result"
    }
   ],
   "source": [
    "df[df['job_position'].isna()].head()"
   ]
  },
  {
   "cell_type": "markdown",
   "id": "a43f2b12-85a3-470f-825b-8381070465c9",
   "metadata": {},
   "source": [
    "### Trying different Ideas\n",
    "- Length of data and Unique learner are different (52346 rows has repeated emails)\n",
    "- Analyzers learner that are reapeated"
   ]
  },
  {
   "cell_type": "code",
   "execution_count": 145,
   "id": "a665be21-dd1d-4b09-aec6-3185c76366e6",
   "metadata": {},
   "outputs": [
    {
     "data": {
      "text/plain": [
       "153333"
      ]
     },
     "execution_count": 145,
     "metadata": {},
     "output_type": "execute_result"
    }
   ],
   "source": [
    "df['email_hash'].nunique()"
   ]
  },
  {
   "cell_type": "code",
   "execution_count": 146,
   "id": "8f3d02f4-a28c-4a0e-a04f-83fc4c86df43",
   "metadata": {},
   "outputs": [
    {
     "data": {
      "text/plain": [
       "52346"
      ]
     },
     "execution_count": 146,
     "metadata": {},
     "output_type": "execute_result"
    }
   ],
   "source": [
    "# calculate the difference \n",
    "\n",
    "df.shape[0] - df['email_hash'].nunique()"
   ]
  },
  {
   "cell_type": "code",
   "execution_count": 158,
   "id": "5db1e2ed-5817-4b82-bd1c-7754a9ff9653",
   "metadata": {},
   "outputs": [
    {
     "data": {
      "text/plain": [
       "email_hash\n",
       "bbace3cc586400bbc65765bc6a16b77d8913836cfc98b77c05488f02f5714a4b    10\n",
       "3e5e49daa5527a6d5a33599b238bf9bf31e85b9efa9a94f1c88c5e15a6f31378     9\n",
       "6842660273f70e9aa239026ba33bfe82275d6ab0d20124021b952b5bc3d07e6c     9\n",
       "298528ce3160cc761e4dc37a07337ee2e0589df251d73645aae209b010210eee     9\n",
       "d598d6f1fb21b45593c2afc1c2f76ae9f4cb7167156cdf93246d4192a89d8065     8\n",
       "Name: count, dtype: int64"
      ]
     },
     "execution_count": 158,
     "metadata": {},
     "output_type": "execute_result"
    }
   ],
   "source": [
    "df['email_hash'].value_counts()[df['email_hash'].value_counts() > 1].head()"
   ]
  },
  {
   "cell_type": "code",
   "execution_count": 159,
   "id": "92553b58-65e3-40be-a888-b3a63644a71f",
   "metadata": {},
   "outputs": [
    {
     "data": {
      "text/html": [
       "<div>\n",
       "<style scoped>\n",
       "    .dataframe tbody tr th:only-of-type {\n",
       "        vertical-align: middle;\n",
       "    }\n",
       "\n",
       "    .dataframe tbody tr th {\n",
       "        vertical-align: top;\n",
       "    }\n",
       "\n",
       "    .dataframe thead th {\n",
       "        text-align: right;\n",
       "    }\n",
       "</style>\n",
       "<table border=\"1\" class=\"dataframe\">\n",
       "  <thead>\n",
       "    <tr style=\"text-align: right;\">\n",
       "      <th></th>\n",
       "      <th>company_hash</th>\n",
       "      <th>email_hash</th>\n",
       "      <th>orgyear</th>\n",
       "      <th>ctc</th>\n",
       "      <th>job_position</th>\n",
       "      <th>ctc_updated_year</th>\n",
       "    </tr>\n",
       "  </thead>\n",
       "  <tbody>\n",
       "    <tr>\n",
       "      <th>24129</th>\n",
       "      <td>oxej ntwyzgrgsxto rxbxnta</td>\n",
       "      <td>bbace3cc586400bbc65765bc6a16b77d8913836cfc98b7...</td>\n",
       "      <td>2018.0</td>\n",
       "      <td>720000</td>\n",
       "      <td>NaN</td>\n",
       "      <td>2020.0</td>\n",
       "    </tr>\n",
       "    <tr>\n",
       "      <th>46038</th>\n",
       "      <td>oxej ntwyzgrgsxto rxbxnta</td>\n",
       "      <td>bbace3cc586400bbc65765bc6a16b77d8913836cfc98b7...</td>\n",
       "      <td>2018.0</td>\n",
       "      <td>720000</td>\n",
       "      <td>support engineer</td>\n",
       "      <td>2020.0</td>\n",
       "    </tr>\n",
       "    <tr>\n",
       "      <th>72415</th>\n",
       "      <td>oxej ntwyzgrgsxto rxbxnta</td>\n",
       "      <td>bbace3cc586400bbc65765bc6a16b77d8913836cfc98b7...</td>\n",
       "      <td>2018.0</td>\n",
       "      <td>720000</td>\n",
       "      <td>other</td>\n",
       "      <td>2020.0</td>\n",
       "    </tr>\n",
       "    <tr>\n",
       "      <th>103145</th>\n",
       "      <td>oxej ntwyzgrgsxto rxbxnta</td>\n",
       "      <td>bbace3cc586400bbc65765bc6a16b77d8913836cfc98b7...</td>\n",
       "      <td>2018.0</td>\n",
       "      <td>720000</td>\n",
       "      <td>fullstack engineer</td>\n",
       "      <td>2020.0</td>\n",
       "    </tr>\n",
       "    <tr>\n",
       "      <th>118076</th>\n",
       "      <td>oxej ntwyzgrgsxto rxbxnta</td>\n",
       "      <td>bbace3cc586400bbc65765bc6a16b77d8913836cfc98b7...</td>\n",
       "      <td>2018.0</td>\n",
       "      <td>720000</td>\n",
       "      <td>data analyst</td>\n",
       "      <td>2020.0</td>\n",
       "    </tr>\n",
       "    <tr>\n",
       "      <th>121825</th>\n",
       "      <td>oxej ntwyzgrgsxto rxbxnta</td>\n",
       "      <td>bbace3cc586400bbc65765bc6a16b77d8913836cfc98b7...</td>\n",
       "      <td>2018.0</td>\n",
       "      <td>660000</td>\n",
       "      <td>other</td>\n",
       "      <td>2019.0</td>\n",
       "    </tr>\n",
       "    <tr>\n",
       "      <th>124840</th>\n",
       "      <td>oxej ntwyzgrgsxto rxbxnta</td>\n",
       "      <td>bbace3cc586400bbc65765bc6a16b77d8913836cfc98b7...</td>\n",
       "      <td>2018.0</td>\n",
       "      <td>660000</td>\n",
       "      <td>support engineer</td>\n",
       "      <td>2019.0</td>\n",
       "    </tr>\n",
       "    <tr>\n",
       "      <th>145021</th>\n",
       "      <td>oxej ntwyzgrgsxto rxbxnta</td>\n",
       "      <td>bbace3cc586400bbc65765bc6a16b77d8913836cfc98b7...</td>\n",
       "      <td>2018.0</td>\n",
       "      <td>660000</td>\n",
       "      <td>fullstack engineer</td>\n",
       "      <td>2019.0</td>\n",
       "    </tr>\n",
       "    <tr>\n",
       "      <th>153402</th>\n",
       "      <td>oxej ntwyzgrgsxto rxbxnta</td>\n",
       "      <td>bbace3cc586400bbc65765bc6a16b77d8913836cfc98b7...</td>\n",
       "      <td>2018.0</td>\n",
       "      <td>660000</td>\n",
       "      <td>devops engineer</td>\n",
       "      <td>2019.0</td>\n",
       "    </tr>\n",
       "    <tr>\n",
       "      <th>160472</th>\n",
       "      <td>oxej ntwyzgrgsxto rxbxnta</td>\n",
       "      <td>bbace3cc586400bbc65765bc6a16b77d8913836cfc98b7...</td>\n",
       "      <td>2018.0</td>\n",
       "      <td>660000</td>\n",
       "      <td>NaN</td>\n",
       "      <td>2019.0</td>\n",
       "    </tr>\n",
       "  </tbody>\n",
       "</table>\n",
       "</div>"
      ],
      "text/plain": [
       "                     company_hash  \\\n",
       "24129   oxej ntwyzgrgsxto rxbxnta   \n",
       "46038   oxej ntwyzgrgsxto rxbxnta   \n",
       "72415   oxej ntwyzgrgsxto rxbxnta   \n",
       "103145  oxej ntwyzgrgsxto rxbxnta   \n",
       "118076  oxej ntwyzgrgsxto rxbxnta   \n",
       "121825  oxej ntwyzgrgsxto rxbxnta   \n",
       "124840  oxej ntwyzgrgsxto rxbxnta   \n",
       "145021  oxej ntwyzgrgsxto rxbxnta   \n",
       "153402  oxej ntwyzgrgsxto rxbxnta   \n",
       "160472  oxej ntwyzgrgsxto rxbxnta   \n",
       "\n",
       "                                               email_hash  orgyear     ctc  \\\n",
       "24129   bbace3cc586400bbc65765bc6a16b77d8913836cfc98b7...   2018.0  720000   \n",
       "46038   bbace3cc586400bbc65765bc6a16b77d8913836cfc98b7...   2018.0  720000   \n",
       "72415   bbace3cc586400bbc65765bc6a16b77d8913836cfc98b7...   2018.0  720000   \n",
       "103145  bbace3cc586400bbc65765bc6a16b77d8913836cfc98b7...   2018.0  720000   \n",
       "118076  bbace3cc586400bbc65765bc6a16b77d8913836cfc98b7...   2018.0  720000   \n",
       "121825  bbace3cc586400bbc65765bc6a16b77d8913836cfc98b7...   2018.0  660000   \n",
       "124840  bbace3cc586400bbc65765bc6a16b77d8913836cfc98b7...   2018.0  660000   \n",
       "145021  bbace3cc586400bbc65765bc6a16b77d8913836cfc98b7...   2018.0  660000   \n",
       "153402  bbace3cc586400bbc65765bc6a16b77d8913836cfc98b7...   2018.0  660000   \n",
       "160472  bbace3cc586400bbc65765bc6a16b77d8913836cfc98b7...   2018.0  660000   \n",
       "\n",
       "              job_position  ctc_updated_year  \n",
       "24129                  NaN            2020.0  \n",
       "46038     support engineer            2020.0  \n",
       "72415                other            2020.0  \n",
       "103145  fullstack engineer            2020.0  \n",
       "118076        data analyst            2020.0  \n",
       "121825               other            2019.0  \n",
       "124840    support engineer            2019.0  \n",
       "145021  fullstack engineer            2019.0  \n",
       "153402     devops engineer            2019.0  \n",
       "160472                 NaN            2019.0  "
      ]
     },
     "execution_count": 159,
     "metadata": {},
     "output_type": "execute_result"
    }
   ],
   "source": [
    "# let's experiment with top values \n",
    "df[df['email_hash'] == \"bbace3cc586400bbc65765bc6a16b77d8913836cfc98b77c05488f02f5714a4b\"]"
   ]
  },
  {
   "cell_type": "markdown",
   "id": "a1e0cb9c-37dc-435f-aeab-cdff8c9201ec",
   "metadata": {},
   "source": [
    "- After trying with multiple emails i have observed that orgyear is same, org is same, but different job_positions, 1 - 2 year difference in ctc_updated_year\n",
    "- We can group the dataset based on email and work on that dataset"
   ]
  },
  {
   "cell_type": "code",
   "execution_count": 140,
   "id": "9fb29ee7-72bc-42bc-ae37-90fd8776e200",
   "metadata": {},
   "outputs": [],
   "source": [
    "agg_func= {\n",
    "    \"company_hash\" : 'first',\n",
    "    \"orgyear\" : 'min',\n",
    "    'ctc' : 'max', # mostly next org salary is based on previous org salary\n",
    "    'job_position': lambda x: ', '.join(set(x.dropna())), # experimenting\n",
    "    'ctc_updated_year': 'max'\n",
    "}"
   ]
  },
  {
   "cell_type": "code",
   "execution_count": 162,
   "id": "4628f439-69d5-4aad-b506-ede6d33fcea4",
   "metadata": {},
   "outputs": [
    {
     "data": {
      "text/html": [
       "<div>\n",
       "<style scoped>\n",
       "    .dataframe tbody tr th:only-of-type {\n",
       "        vertical-align: middle;\n",
       "    }\n",
       "\n",
       "    .dataframe tbody tr th {\n",
       "        vertical-align: top;\n",
       "    }\n",
       "\n",
       "    .dataframe thead th {\n",
       "        text-align: right;\n",
       "    }\n",
       "</style>\n",
       "<table border=\"1\" class=\"dataframe\">\n",
       "  <thead>\n",
       "    <tr style=\"text-align: right;\">\n",
       "      <th></th>\n",
       "      <th>email_hash</th>\n",
       "      <th>company_hash</th>\n",
       "      <th>orgyear</th>\n",
       "      <th>ctc</th>\n",
       "      <th>job_position</th>\n",
       "      <th>ctc_updated_year</th>\n",
       "    </tr>\n",
       "  </thead>\n",
       "  <tbody>\n",
       "    <tr>\n",
       "      <th>0</th>\n",
       "      <td>00003288036a44374976948c327f246fdbdf0778546904...</td>\n",
       "      <td>bxwqgogen</td>\n",
       "      <td>2012.0</td>\n",
       "      <td>3500000</td>\n",
       "      <td>backend engineer</td>\n",
       "      <td>2019.0</td>\n",
       "    </tr>\n",
       "    <tr>\n",
       "      <th>1</th>\n",
       "      <td>0000aaa0e6b61f7636af1954b43d294484cd151c9b3cf6...</td>\n",
       "      <td>nqsn axsxnvr</td>\n",
       "      <td>2013.0</td>\n",
       "      <td>250000</td>\n",
       "      <td>backend engineer</td>\n",
       "      <td>2020.0</td>\n",
       "    </tr>\n",
       "    <tr>\n",
       "      <th>2</th>\n",
       "      <td>0000d58fbc18012bf6fa2605a7b0357d126ee69bc41032...</td>\n",
       "      <td>gunhb</td>\n",
       "      <td>2021.0</td>\n",
       "      <td>1300000</td>\n",
       "      <td>fullstack engineer</td>\n",
       "      <td>2019.0</td>\n",
       "    </tr>\n",
       "    <tr>\n",
       "      <th>3</th>\n",
       "      <td>000120d0c8aa304fcf12ab4b85e21feb80a342cfea03d4...</td>\n",
       "      <td>bxwqgotbx wgqugqvnxgz</td>\n",
       "      <td>2004.0</td>\n",
       "      <td>2000000</td>\n",
       "      <td>fullstack engineer</td>\n",
       "      <td>2021.0</td>\n",
       "    </tr>\n",
       "    <tr>\n",
       "      <th>4</th>\n",
       "      <td>00014d71a389170e668ba96ae8e1f9d991591acc899025...</td>\n",
       "      <td>fvrbvqn rvmo</td>\n",
       "      <td>2009.0</td>\n",
       "      <td>3400000</td>\n",
       "      <td></td>\n",
       "      <td>2018.0</td>\n",
       "    </tr>\n",
       "  </tbody>\n",
       "</table>\n",
       "</div>"
      ],
      "text/plain": [
       "                                          email_hash           company_hash  \\\n",
       "0  00003288036a44374976948c327f246fdbdf0778546904...              bxwqgogen   \n",
       "1  0000aaa0e6b61f7636af1954b43d294484cd151c9b3cf6...           nqsn axsxnvr   \n",
       "2  0000d58fbc18012bf6fa2605a7b0357d126ee69bc41032...                  gunhb   \n",
       "3  000120d0c8aa304fcf12ab4b85e21feb80a342cfea03d4...  bxwqgotbx wgqugqvnxgz   \n",
       "4  00014d71a389170e668ba96ae8e1f9d991591acc899025...           fvrbvqn rvmo   \n",
       "\n",
       "   orgyear      ctc        job_position  ctc_updated_year  \n",
       "0   2012.0  3500000    backend engineer            2019.0  \n",
       "1   2013.0   250000    backend engineer            2020.0  \n",
       "2   2021.0  1300000  fullstack engineer            2019.0  \n",
       "3   2004.0  2000000  fullstack engineer            2021.0  \n",
       "4   2009.0  3400000                                2018.0  "
      ]
     },
     "execution_count": 162,
     "metadata": {},
     "output_type": "execute_result"
    }
   ],
   "source": [
    "agg_df= df.groupby(by=['email_hash']).agg(agg_func).reset_index()\n",
    "agg_df.head()"
   ]
  },
  {
   "cell_type": "code",
   "execution_count": 163,
   "id": "769a9ea3-6c63-40c9-983f-aec8a30fe6fc",
   "metadata": {},
   "outputs": [
    {
     "data": {
      "text/plain": [
       "943"
      ]
     },
     "execution_count": 163,
     "metadata": {},
     "output_type": "execute_result"
    }
   ],
   "source": [
    "df['job_position'].nunique()"
   ]
  },
  {
   "cell_type": "code",
   "execution_count": 164,
   "id": "e3221bbc-99cd-402f-8d66-e039141d7918",
   "metadata": {},
   "outputs": [
    {
     "data": {
      "text/plain": [
       "1881"
      ]
     },
     "execution_count": 164,
     "metadata": {},
     "output_type": "execute_result"
    }
   ],
   "source": [
    "agg_df['job_position'].nunique()"
   ]
  },
  {
   "cell_type": "code",
   "execution_count": 165,
   "id": "a228e7b8-c1a9-42e6-88d9-2567bbf5870c",
   "metadata": {},
   "outputs": [
    {
     "data": {
      "text/plain": [
       "email_hash          0\n",
       "company_hash        0\n",
       "orgyear             0\n",
       "ctc                 0\n",
       "job_position        0\n",
       "ctc_updated_year    0\n",
       "dtype: int64"
      ]
     },
     "execution_count": 165,
     "metadata": {},
     "output_type": "execute_result"
    }
   ],
   "source": [
    "agg_df.isna().sum()"
   ]
  },
  {
   "cell_type": "markdown",
   "id": "defd9c8d-e799-4056-89a4-c7960e0978ce",
   "metadata": {},
   "source": [
    "Observations:\n",
    "- Even though job_position null values has been drastically came to 0(Warning) but cardinality has been increased\n",
    "- The job_position which has null init after aggregating has converted to empty string \"\".\n",
    "- Since those are names they won't create much value but a fix dividing into Tech and non tech can help to solve cardinality issue."
   ]
  },
  {
   "cell_type": "code",
   "execution_count": 166,
   "id": "3a24da2a-bff1-4cac-8808-85d18dbe187e",
   "metadata": {},
   "outputs": [
    {
     "data": {
      "text/plain": [
       "np.int64(52493)"
      ]
     },
     "execution_count": 166,
     "metadata": {},
     "output_type": "execute_result"
    }
   ],
   "source": [
    "df['job_position'].isna().sum()"
   ]
  },
  {
   "cell_type": "code",
   "execution_count": 184,
   "id": "e2e59399-b7f4-47d2-9e44-9c90f6316332",
   "metadata": {},
   "outputs": [
    {
     "data": {
      "text/plain": [
       "job_position\n",
       "data/product engineer           1\n",
       "applied scientist               1\n",
       "member technical staff iii      1\n",
       "web / ui designer               1\n",
       "software engineer, associate    1\n",
       "Name: count, dtype: int64"
      ]
     },
     "execution_count": 184,
     "metadata": {},
     "output_type": "execute_result"
    }
   ],
   "source": [
    "df['job_position'].value_counts().tail()"
   ]
  },
  {
   "cell_type": "code",
   "execution_count": null,
   "id": "0c8a2719-4ed8-4040-a988-1174bddaf7b8",
   "metadata": {},
   "outputs": [],
   "source": [
    "# create a function to classify tech and non tech\n",
    "# Conditions: 1. has specific key words ['data', 'engineer', 'developer', 'programmer', 'analyst', 'software', 'scientist', 'it', 'technology']\n",
    "# but engineer can also include mechanical or data can include data entry so let's check is it really there or not"
   ]
  },
  {
   "cell_type": "code",
   "execution_count": 172,
   "id": "d8cfbae6-6b8b-4cb2-ab16-a61355794a9e",
   "metadata": {},
   "outputs": [
    {
     "data": {
      "text/plain": [
       "job_position\n",
       "backend engineer                           43532\n",
       "fullstack engineer                         25965\n",
       "frontend engineer                          10412\n",
       "engineering leadership                      6867\n",
       "qa engineer                                 6584\n",
       "                                           ...  \n",
       "software engineer l2                           1\n",
       "web engineer                                   1\n",
       "software engineer  - programmer analyst        1\n",
       "senior database engineer                       1\n",
       "principal application engineer                 1\n",
       "Name: count, Length: 271, dtype: int64"
      ]
     },
     "execution_count": 172,
     "metadata": {},
     "output_type": "execute_result"
    }
   ],
   "source": [
    "matching_rows= df[df['job_position'].str.contains(\"engineer\", na= False)]\n",
    "matching_rows['job_position'].value_counts()"
   ]
  },
  {
   "cell_type": "code",
   "execution_count": 176,
   "id": "e5da01b9-a283-4059-bc12-418688f9438a",
   "metadata": {},
   "outputs": [
    {
     "data": {
      "text/html": [
       "<div>\n",
       "<style scoped>\n",
       "    .dataframe tbody tr th:only-of-type {\n",
       "        vertical-align: middle;\n",
       "    }\n",
       "\n",
       "    .dataframe tbody tr th {\n",
       "        vertical-align: top;\n",
       "    }\n",
       "\n",
       "    .dataframe thead th {\n",
       "        text-align: right;\n",
       "    }\n",
       "</style>\n",
       "<table border=\"1\" class=\"dataframe\">\n",
       "  <thead>\n",
       "    <tr style=\"text-align: right;\">\n",
       "      <th></th>\n",
       "      <th>company_hash</th>\n",
       "      <th>email_hash</th>\n",
       "      <th>orgyear</th>\n",
       "      <th>ctc</th>\n",
       "      <th>job_position</th>\n",
       "      <th>ctc_updated_year</th>\n",
       "    </tr>\n",
       "  </thead>\n",
       "  <tbody>\n",
       "    <tr>\n",
       "      <th>42350</th>\n",
       "      <td>zgn vuurxwvmrt vwwghzn</td>\n",
       "      <td>75558f58237feaf5911aedcfd988895bb42c94be3605d2...</td>\n",
       "      <td>2015.0</td>\n",
       "      <td>10000</td>\n",
       "      <td>some data entry operator like some copy's writ...</td>\n",
       "      <td>2021.0</td>\n",
       "    </tr>\n",
       "    <tr>\n",
       "      <th>113812</th>\n",
       "      <td>sga qtltwnta vuurxvzwto</td>\n",
       "      <td>c2ee1ee5174181e8c38b6ca1bd8c811880525d56805c33...</td>\n",
       "      <td>2013.0</td>\n",
       "      <td>100000000</td>\n",
       "      <td>data entry</td>\n",
       "      <td>2021.0</td>\n",
       "    </tr>\n",
       "  </tbody>\n",
       "</table>\n",
       "</div>"
      ],
      "text/plain": [
       "                   company_hash  \\\n",
       "42350    zgn vuurxwvmrt vwwghzn   \n",
       "113812  sga qtltwnta vuurxvzwto   \n",
       "\n",
       "                                               email_hash  orgyear        ctc  \\\n",
       "42350   75558f58237feaf5911aedcfd988895bb42c94be3605d2...   2015.0      10000   \n",
       "113812  c2ee1ee5174181e8c38b6ca1bd8c811880525d56805c33...   2013.0  100000000   \n",
       "\n",
       "                                             job_position  ctc_updated_year  \n",
       "42350   some data entry operator like some copy's writ...            2021.0  \n",
       "113812                                         data entry            2021.0  "
      ]
     },
     "execution_count": 176,
     "metadata": {},
     "output_type": "execute_result"
    }
   ],
   "source": [
    "df[df['job_position'].str.contains(\"entry\", na= False)]"
   ]
  },
  {
   "cell_type": "markdown",
   "id": "a3d66afa-d92f-4b32-8a09-ccc3d42c9ceb",
   "metadata": {},
   "source": [
    "- There are no non tech people who named as engineers\n",
    "- There are just two learners with non tech data roles"
   ]
  },
  {
   "cell_type": "code",
   "execution_count": 198,
   "id": "231164a4-f095-4c0f-85b6-1ace836771b3",
   "metadata": {},
   "outputs": [],
   "source": [
    "# CREATE A FUNCTION THAT CLASSIFIES TECH AND NON TECH PEOPLE\n",
    "\n",
    "tech_key_words= ['engineer', 'developer', 'programmer', 'analyst', 'software', 'scientist', 'it', 'technology']\n",
    "\n",
    "agg_df[\"job_group\"]= agg_df['job_position'].apply(\n",
    "    lambda x: \"tech\" if any(keyword in str(x) for keyword in tech_key_words)\n",
    "    else \"unknown\" if str(x) == \"\"\n",
    "    else \"non_tech\"\n",
    ")"
   ]
  },
  {
   "cell_type": "code",
   "execution_count": 199,
   "id": "517f6365-63f6-4a1a-953c-7e53415bde1b",
   "metadata": {},
   "outputs": [
    {
     "data": {
      "text/plain": [
       "job_group\n",
       "tech        109788\n",
       "non_tech     23357\n",
       "unknown      20188\n",
       "Name: count, dtype: int64"
      ]
     },
     "execution_count": 199,
     "metadata": {},
     "output_type": "execute_result"
    }
   ],
   "source": [
    "agg_df[\"job_group\"].value_counts()"
   ]
  },
  {
   "cell_type": "code",
   "execution_count": 192,
   "id": "35a383c2-6506-49e3-a02e-4d2cec094551",
   "metadata": {},
   "outputs": [
    {
     "data": {
      "text/plain": [
       "email_hash          0\n",
       "company_hash        0\n",
       "orgyear             0\n",
       "ctc                 0\n",
       "job_position        0\n",
       "ctc_updated_year    0\n",
       "tech_non_tech       0\n",
       "dtype: int64"
      ]
     },
     "execution_count": 192,
     "metadata": {},
     "output_type": "execute_result"
    }
   ],
   "source": [
    "agg_df.isna().sum()"
   ]
  },
  {
   "cell_type": "code",
   "execution_count": 193,
   "id": "93b877ff-15a2-4e38-8724-55b84d09fa42",
   "metadata": {},
   "outputs": [
    {
     "data": {
      "text/plain": [
       "(153333, 7)"
      ]
     },
     "execution_count": 193,
     "metadata": {},
     "output_type": "execute_result"
    }
   ],
   "source": [
    "agg_df.shape"
   ]
  },
  {
   "cell_type": "code",
   "execution_count": 195,
   "id": "000c1149-6238-4aa5-b310-94938fce08c9",
   "metadata": {},
   "outputs": [
    {
     "data": {
      "text/plain": [
       "job_position\n",
       "backend engineer      33761\n",
       "                      20188\n",
       "fullstack engineer    18885\n",
       "other                 14166\n",
       "frontend engineer      8601\n",
       "Name: count, dtype: int64"
      ]
     },
     "execution_count": 195,
     "metadata": {},
     "output_type": "execute_result"
    }
   ],
   "source": [
    "agg_df['job_position'].value_counts().head()"
   ]
  },
  {
   "cell_type": "markdown",
   "id": "4e04b39b-10b4-49b0-9c9e-fa55d332cfe9",
   "metadata": {},
   "source": [
    "- The black job_position is an empty string converted from null value by join function when aggregating the dataset."
   ]
  },
  {
   "cell_type": "code",
   "execution_count": 196,
   "id": "4ac82fad-5a87-4a10-870d-62fcfea14fa1",
   "metadata": {},
   "outputs": [
    {
     "data": {
      "text/html": [
       "<div>\n",
       "<style scoped>\n",
       "    .dataframe tbody tr th:only-of-type {\n",
       "        vertical-align: middle;\n",
       "    }\n",
       "\n",
       "    .dataframe tbody tr th {\n",
       "        vertical-align: top;\n",
       "    }\n",
       "\n",
       "    .dataframe thead th {\n",
       "        text-align: right;\n",
       "    }\n",
       "</style>\n",
       "<table border=\"1\" class=\"dataframe\">\n",
       "  <thead>\n",
       "    <tr style=\"text-align: right;\">\n",
       "      <th></th>\n",
       "      <th>email_hash</th>\n",
       "      <th>company_hash</th>\n",
       "      <th>orgyear</th>\n",
       "      <th>ctc</th>\n",
       "      <th>job_position</th>\n",
       "      <th>ctc_updated_year</th>\n",
       "      <th>tech_non_tech</th>\n",
       "    </tr>\n",
       "  </thead>\n",
       "  <tbody>\n",
       "    <tr>\n",
       "      <th>0</th>\n",
       "      <td>00003288036a44374976948c327f246fdbdf0778546904...</td>\n",
       "      <td>bxwqgogen</td>\n",
       "      <td>2012.0</td>\n",
       "      <td>3500000</td>\n",
       "      <td>backend engineer</td>\n",
       "      <td>2019.0</td>\n",
       "      <td>tech</td>\n",
       "    </tr>\n",
       "    <tr>\n",
       "      <th>1</th>\n",
       "      <td>0000aaa0e6b61f7636af1954b43d294484cd151c9b3cf6...</td>\n",
       "      <td>nqsn axsxnvr</td>\n",
       "      <td>2013.0</td>\n",
       "      <td>250000</td>\n",
       "      <td>backend engineer</td>\n",
       "      <td>2020.0</td>\n",
       "      <td>tech</td>\n",
       "    </tr>\n",
       "    <tr>\n",
       "      <th>2</th>\n",
       "      <td>0000d58fbc18012bf6fa2605a7b0357d126ee69bc41032...</td>\n",
       "      <td>gunhb</td>\n",
       "      <td>2021.0</td>\n",
       "      <td>1300000</td>\n",
       "      <td>fullstack engineer</td>\n",
       "      <td>2019.0</td>\n",
       "      <td>tech</td>\n",
       "    </tr>\n",
       "    <tr>\n",
       "      <th>3</th>\n",
       "      <td>000120d0c8aa304fcf12ab4b85e21feb80a342cfea03d4...</td>\n",
       "      <td>bxwqgotbx wgqugqvnxgz</td>\n",
       "      <td>2004.0</td>\n",
       "      <td>2000000</td>\n",
       "      <td>fullstack engineer</td>\n",
       "      <td>2021.0</td>\n",
       "      <td>tech</td>\n",
       "    </tr>\n",
       "    <tr>\n",
       "      <th>4</th>\n",
       "      <td>00014d71a389170e668ba96ae8e1f9d991591acc899025...</td>\n",
       "      <td>fvrbvqn rvmo</td>\n",
       "      <td>2009.0</td>\n",
       "      <td>3400000</td>\n",
       "      <td></td>\n",
       "      <td>2018.0</td>\n",
       "      <td>unknown</td>\n",
       "    </tr>\n",
       "  </tbody>\n",
       "</table>\n",
       "</div>"
      ],
      "text/plain": [
       "                                          email_hash           company_hash  \\\n",
       "0  00003288036a44374976948c327f246fdbdf0778546904...              bxwqgogen   \n",
       "1  0000aaa0e6b61f7636af1954b43d294484cd151c9b3cf6...           nqsn axsxnvr   \n",
       "2  0000d58fbc18012bf6fa2605a7b0357d126ee69bc41032...                  gunhb   \n",
       "3  000120d0c8aa304fcf12ab4b85e21feb80a342cfea03d4...  bxwqgotbx wgqugqvnxgz   \n",
       "4  00014d71a389170e668ba96ae8e1f9d991591acc899025...           fvrbvqn rvmo   \n",
       "\n",
       "   orgyear      ctc        job_position  ctc_updated_year tech_non_tech  \n",
       "0   2012.0  3500000    backend engineer            2019.0          tech  \n",
       "1   2013.0   250000    backend engineer            2020.0          tech  \n",
       "2   2021.0  1300000  fullstack engineer            2019.0          tech  \n",
       "3   2004.0  2000000  fullstack engineer            2021.0          tech  \n",
       "4   2009.0  3400000                                2018.0       unknown  "
      ]
     },
     "execution_count": 196,
     "metadata": {},
     "output_type": "execute_result"
    }
   ],
   "source": [
    "agg_df.head()"
   ]
  },
  {
   "cell_type": "markdown",
   "id": "d56b84b8-c493-421e-ae8c-8c9be29c079e",
   "metadata": {},
   "source": [
    "### Summary of Data Cleaning\n",
    "- Removed null values that are less than 0.05%\n",
    "- Reduced cardinality of job_position\n",
    "- Grouped data based on email(Learners)\n",
    "- classified tech_non_tech based on keywords in job_position\n",
    "- Null values are converted into unknown in tech_non_tech column\n",
    "  \n",
    "Detailed description under the cell that has been work done."
   ]
  },
  {
   "cell_type": "markdown",
   "id": "76910bfc-a716-4780-a504-b0afd24c9adc",
   "metadata": {
    "jp-MarkdownHeadingCollapsed": true
   },
   "source": [
    "## Report Generation using Generative AI (OpenAI, Gemini, ChatGPT)"
   ]
  },
  {
   "cell_type": "code",
   "execution_count": 212,
   "id": "5e442c4d-becd-4489-9266-10da39a7732a",
   "metadata": {},
   "outputs": [],
   "source": [
    "import pandas as pd\n",
    "import numpy as np\n",
    "\n",
    "def get_company_salary_summary(df: pd.DataFrame) -> str:\n",
    "    \"\"\"\n",
    "    Generate a comprehensive summary report of employee/company salary dataset.\n",
    "\n",
    "    Parameters\n",
    "    ----------\n",
    "    df : pd.DataFrame\n",
    "        Expected columns:\n",
    "        - 'company_hash', 'email_hash', 'orgyear', 'ctc',\n",
    "          'job_position', 'ctc_updated_year', 'job_group'\n",
    "\n",
    "    Returns\n",
    "    -------\n",
    "    str\n",
    "        A formatted multi-line string containing comprehensive salary dataset statistics.\n",
    "    \"\"\"\n",
    "\n",
    "    # --- Basic Stats ---\n",
    "    total_records = len(df)\n",
    "    unique_companies = df[\"company_hash\"].nunique()\n",
    "    unique_people = df[\"email_hash\"].nunique()\n",
    "    unique_positions = df[\"job_position\"].nunique()\n",
    "\n",
    "    tech_count = (df[\"job_group\"].str.lower() == \"tech\").sum()\n",
    "    non_tech_count = (df[\"job_group\"].str.lower() == \"non_tech\").sum()\n",
    "    unknown_count = (df[\"job_group\"].str.lower() == \"unknown\").sum()\n",
    "\n",
    "    # --- CTC Statistics ---\n",
    "    ctc_data = df[\"ctc\"].dropna()\n",
    "    ctc_avg = ctc_data.mean()\n",
    "    ctc_median = ctc_data.median()\n",
    "    ctc_min = ctc_data.min()\n",
    "    ctc_max = ctc_data.max()\n",
    "    ctc_25th = ctc_data.quantile(0.25)\n",
    "    ctc_75th = ctc_data.quantile(0.75)\n",
    "\n",
    "    # --- Org Year Analysis ---\n",
    "    orgyear_stats = df.groupby(\"orgyear\").agg(\n",
    "        count=(\"email_hash\", \"nunique\"),\n",
    "        avg_ctc=(\"ctc\", \"mean\")\n",
    "    ).reset_index()\n",
    "\n",
    "    # --- CTC Updated Year Analysis ---\n",
    "    updateyear_stats = df.groupby(\"ctc_updated_year\").agg(\n",
    "        count=(\"email_hash\", \"nunique\"),\n",
    "        avg_ctc=(\"ctc\", \"mean\")\n",
    "    ).reset_index()\n",
    "\n",
    "    # --- Job Position Analysis ---\n",
    "    position_stats = df.groupby(\"job_position\").agg(\n",
    "        count=(\"email_hash\", \"nunique\"),\n",
    "        avg_ctc=(\"ctc\", \"mean\")\n",
    "    ).reset_index().sort_values(by=\"count\", ascending=False)\n",
    "\n",
    "    # --- Job Group Salary Analysis ---\n",
    "    jobgroup_stats = df.groupby(\"job_group\").agg(\n",
    "        count=(\"email_hash\", \"nunique\"),\n",
    "        avg_ctc=(\"ctc\", \"mean\")\n",
    "    ).reset_index()\n",
    "\n",
    "    # --- Company Analysis ---\n",
    "    company_salary_stats = df.groupby(\"company_hash\").agg(\n",
    "        count=(\"email_hash\", \"nunique\"),\n",
    "        avg_ctc=(\"ctc\", \"mean\")\n",
    "    ).reset_index().sort_values(by=\"avg_ctc\", ascending=False)\n",
    "\n",
    "    # --- Build Summary ---\n",
    "    summary = f\"\"\"Company & Salary Dataset Summary (2025)\n",
    "\n",
    "Dataset Overview:\n",
    "- Total Records: {total_records:,}\n",
    "- Unique Companies: {unique_companies:,}\n",
    "- Unique Individuals: {unique_people:,}\n",
    "- Unique Job Positions: {unique_positions:,}\n",
    "\n",
    "Job Group Distribution:\n",
    "- Tech roles: {tech_count:,} ({tech_count/total_records*100:.1f}%)\n",
    "- Non-Tech roles: {non_tech_count:,} ({non_tech_count/total_records*100:.1f}%)\n",
    "- Unknown roles: {unknown_count:,} ({unknown_count/total_records*100:.1f}%)\n",
    "\n",
    "CTC Statistics:\n",
    "- Average CTC: ₹{ctc_avg:,.0f}\n",
    "- Median CTC: ₹{ctc_median:,.0f}\n",
    "- Min CTC: ₹{ctc_min:,.0f}\n",
    "- Max CTC: ₹{ctc_max:,.0f}\n",
    "- 25th percentile: ₹{ctc_25th:,.0f}\n",
    "- 75th percentile: ₹{ctc_75th:,.0f}\n",
    "\n",
    "Top 5 Job Positions by Count:\n",
    "\"\"\"\n",
    "    for _, row in position_stats.head(5).iterrows():\n",
    "        summary += f\"- {row['job_position']}: {row['count']} people, Avg CTC ₹{row['avg_ctc']:,.0f}\\n\"\n",
    "\n",
    "    summary += \"\\nTop 5 Companies by Average CTC:\\n\"\n",
    "    for _, row in company_salary_stats.head(5).iterrows():\n",
    "        summary += f\"- {row['company_hash']}: {row['count']} people, Avg CTC ₹{row['avg_ctc']:,.0f}\\n\"\n",
    "\n",
    "    summary += \"\\nTech vs Non-Tech Salary Comparison:\\n\"\n",
    "    for _, row in jobgroup_stats.iterrows():\n",
    "        summary += f\"- {row['job_group']}: {row['count']} people, Avg CTC ₹{row['avg_ctc']:,.0f}\\n\"\n",
    "\n",
    "    # --- Key Insights ---\n",
    "    highest_paying_position = position_stats.iloc[position_stats['avg_ctc'].idxmax()]\n",
    "    highest_paying_company = company_salary_stats.iloc[0]\n",
    "\n",
    "    summary += \"\\nKey Insights:\\n\"\n",
    "    summary += f\"- Highest paying position: {highest_paying_position['job_position']} (Avg ₹{highest_paying_position['avg_ctc']:,.0f})\\n\"\n",
    "    summary += f\"- Highest paying company: {highest_paying_company['company_hash']} (Avg ₹{highest_paying_company['avg_ctc']:,.0f})\\n\"\n",
    "\n",
    "    if jobgroup_stats.loc[jobgroup_stats['job_group'].str.lower() == 'tech', 'avg_ctc'].values[0] > \\\n",
    "       jobgroup_stats.loc[jobgroup_stats['job_group'].str.lower() == 'non_tech', 'avg_ctc'].values[0]:\n",
    "        summary += \"- Tech roles have higher average salaries than Non-Tech roles.\\n\"\n",
    "    else:\n",
    "        summary += \"- Non-Tech roles have higher average salaries than Tech roles.\\n\"\n",
    "\n",
    "    return summary\n"
   ]
  },
  {
   "cell_type": "code",
   "execution_count": 214,
   "id": "8bf99e80-f2ba-4732-aa7d-6addbbb1a651",
   "metadata": {},
   "outputs": [
    {
     "name": "stdout",
     "output_type": "stream",
     "text": [
      "Company & Salary Dataset Summary (2025)\n",
      "\n",
      "Dataset Overview:\n",
      "- Total Records: 153,333\n",
      "- Unique Companies: 36,314\n",
      "- Unique Individuals: 153,333\n",
      "- Unique Job Positions: 1,881\n",
      "\n",
      "Job Group Distribution:\n",
      "- Tech roles: 109,788 (71.6%)\n",
      "- Non-Tech roles: 23,357 (15.2%)\n",
      "- Unknown roles: 20,188 (13.2%)\n",
      "\n",
      "CTC Statistics:\n",
      "- Average CTC: ₹2,552,644\n",
      "- Median CTC: ₹1,000,000\n",
      "- Min CTC: ₹2\n",
      "- Max CTC: ₹1,000,150,000\n",
      "- 25th percentile: ₹550,000\n",
      "- 75th percentile: ₹1,739,999\n",
      "\n",
      "Top 5 Job Positions by Count:\n",
      "- backend engineer: 33761 people, Avg CTC ₹2,085,778\n",
      "- : 20188 people, Avg CTC ₹2,810,211\n",
      "- fullstack engineer: 18885 people, Avg CTC ₹1,965,273\n",
      "- other: 14166 people, Avg CTC ₹4,634,615\n",
      "- frontend engineer: 8601 people, Avg CTC ₹1,927,606\n",
      "\n",
      "Top 5 Companies by Average CTC:\n",
      "- whmxw rgsxwo uqxcvnt rxbxnta: 1 people, Avg CTC ₹1,000,150,000\n",
      "- aveegaxr xzntqzvnxgzvr hzxctqoxnj: 1 people, Avg CTC ₹250,000,000\n",
      "- vbvkgz wvzvav: 1 people, Avg CTC ₹200,000,000\n",
      "- hzxiht sqghu ge owyggro: 1 people, Avg CTC ₹200,000,000\n",
      "- sxo ntwyzgrgsj: 1 people, Avg CTC ₹200,000,000\n",
      "\n",
      "Tech vs Non-Tech Salary Comparison:\n",
      "- non_tech: 23357 people, Avg CTC ₹3,817,107\n",
      "- tech: 109788 people, Avg CTC ₹2,236,272\n",
      "- unknown: 20188 people, Avg CTC ₹2,810,211\n",
      "\n",
      "Key Insights:\n",
      "- Highest paying position: director engineering (Avg ₹1,393,750)\n",
      "- Highest paying company: whmxw rgsxwo uqxcvnt rxbxnta (Avg ₹1,000,150,000)\n",
      "- Non-Tech roles have higher average salaries than Tech roles.\n",
      "\n"
     ]
    }
   ],
   "source": [
    "print(get_company_salary_summary(agg_df))"
   ]
  },
  {
   "cell_type": "code",
   "execution_count": 215,
   "id": "4647ea97-81d1-4621-9d52-c83cb09a1610",
   "metadata": {},
   "outputs": [],
   "source": [
    "SUMMARIZE_DATAFRAME_PROMPT = \"\"\"\n",
    "You are an expert data analyst and data summarizer. Your task is to take in complex datasets\n",
    "and return user-friendly descriptions and findings.\n",
    "\n",
    "You were given this dataset:\n",
    "- Name: {dataset_name}\n",
    "- Source: {dataset_source}\n",
    "\n",
    "This dataset was analyzed in a pipeline before it was given to you.\n",
    "These are the findings returned by the analysis pipeline:\n",
    "\n",
    "<context>\n",
    "{context}\n",
    "</context>\n",
    "\n",
    "Based on these findings, write a detailed report in {report_format} format.\n",
    "Give the report a meaningful title and separate findings into sections with headings and subheadings.\n",
    "Output only the report in {report_format} and nothing else.\n",
    "\n",
    "Report:\n",
    "\"\"\""
   ]
  },
  {
   "cell_type": "code",
   "execution_count": 253,
   "id": "f1eaa57d-3437-4f11-b3f3-7af072c60c47",
   "metadata": {},
   "outputs": [],
   "source": [
    "from langchain_openai import ChatOpenAI\n",
    "from langchain_groq import ChatGroq\n",
    "from langchain_google_genai import ChatGoogleGenerativeAI\n",
    "import getpass\n",
    "import os\n",
    "\n",
    "def get_llm(provider: str = \"openai\", model_name: str = None, temperature: float = 0):\n",
    "    \"\"\"\n",
    "    Returns a LangChain chat model instance for OpenAI, Groq, or Gemini.\n",
    "\n",
    "    Parameters\n",
    "    ----------\n",
    "    provider : str\n",
    "        The LLM provider to use: \"openai\", \"groq\", or \"gemini\".\n",
    "    model_name : str\n",
    "        The model name to use for the provider. If None, defaults will be used.\n",
    "    temperature : float\n",
    "        Temperature for generation (0 = deterministic).\n",
    "\n",
    "    Returns\n",
    "    -------\n",
    "    ChatModel\n",
    "        A configured LangChain-compatible chat model.\n",
    "    \"\"\"\n",
    "\n",
    "    provider = provider.lower()\n",
    "\n",
    "    if provider == \"openai\":\n",
    "        if not os.environ.get(\"OPENAI_API_KEY\"):\n",
    "            os.environ[\"OPENAI_API_KEY\"] = getpass.getpass(\"Enter API key for Open AI: \")\n",
    "        if model_name is None:\n",
    "            model_name = \"gpt-4o-mini\"\n",
    "        return ChatOpenAI(\n",
    "            model=model_name,\n",
    "            temperature=temperature,\n",
    "            api_key=os.getenv(\"OPENAI_API_KEY\")\n",
    "        )\n",
    "\n",
    "    elif provider == \"groq\":\n",
    "        if not os.environ.get(\"GROQ_API_KEY\"):\n",
    "            os.environ[\"GROQ_API_KEY\"] = getpass.getpass(\"Enter API key for Groq: \")\n",
    "        if model_name is None:\n",
    "            model_name = \"deepseek-r1-distill-llama-70b\"\n",
    "        return ChatGroq(\n",
    "            model=model_name,\n",
    "            temperature=temperature,\n",
    "            api_key=os.getenv(\"GROQ_API_KEY\")\n",
    "        )\n",
    "\n",
    "    elif provider == \"gemini\":\n",
    "        if not os.environ.get(\"GOOGLE_API_KEY\"):\n",
    "            os.environ[\"GOOGLE_API_KEY\"] = getpass.getpass(\"Enter API key for Google Gemini: \")\n",
    "        if model_name is None:\n",
    "            model_name = \"gemini-2.0-flash\"\n",
    "        return ChatGoogleGenerativeAI(\n",
    "            model=model_name,\n",
    "            temperature=temperature,\n",
    "            google_api_key=os.getenv(\"GOOGLE_API_KEY\")\n",
    "        )\n",
    "\n",
    "    else:\n",
    "        raise ValueError(f\"Unknown provider: {provider}\")\n"
   ]
  },
  {
   "cell_type": "code",
   "execution_count": 254,
   "id": "bdde68d2-309a-4526-bd5a-d82d94837f5c",
   "metadata": {},
   "outputs": [
    {
     "data": {
      "text/plain": [
       "\"<think>\\n\\n</think>\\n\\nIt seems like you're testing or checking something. How can I assist you with this test? Let me know if you need help with anything specific! 😊\""
      ]
     },
     "execution_count": 254,
     "metadata": {},
     "output_type": "execute_result"
    }
   ],
   "source": [
    "get_llm(\"groq\").invoke(\"test\").content"
   ]
  },
  {
   "cell_type": "code",
   "execution_count": 255,
   "id": "599b2c1a-8991-4e41-80d2-d5707d3001a2",
   "metadata": {},
   "outputs": [],
   "source": [
    "from typing import Literal\n",
    "from langchain.prompts import PromptTemplate\n",
    "\n",
    "def get_report_summary_openai(\n",
    "    dataset: pd.DataFrame,\n",
    "    dataset_name: str,\n",
    "    dataset_source: str,\n",
    "    report_format: Literal[\"markdown\", \"html\"] = \"markdown\",\n",
    ") -> str:\n",
    "    \"\"\"\n",
    "    Generate an AI-powered summary report from a pandas DataFrame using OpenAI via LangChain.\n",
    "\n",
    "    Parameters\n",
    "    ----------\n",
    "    dataset : pd.DataFrame\n",
    "        The pandas DataFrame to analyze and summarize.\n",
    "    dataset_name : str\n",
    "        A descriptive name for the dataset that will be included in the\n",
    "        generated report for context and identification.\n",
    "    dataset_source : str\n",
    "        Information about the source or origin of the dataset.\n",
    "    report_format : {\"markdown\", \"html\"}, optional\n",
    "        The desired output format for the generated report.\n",
    "\n",
    "    Returns\n",
    "    -------\n",
    "    str\n",
    "        A formatted summary report.\n",
    "    \"\"\"\n",
    "    # Step 1 — Extract statistical context\n",
    "    context_message = get_company_salary_summary(df=dataset)\n",
    "\n",
    "    # Step 2 — Create the LangChain prompt\n",
    "    prompt_template = PromptTemplate(\n",
    "        input_variables=[\"dataset_name\", \"dataset_source\", \"context\", \"report_format\"],\n",
    "        template=SUMMARIZE_DATAFRAME_PROMPT\n",
    "    )\n",
    "\n",
    "    # Step 3 — Format the prompt\n",
    "    prompt = prompt_template.format(\n",
    "        dataset_name=dataset_name,\n",
    "        dataset_source=dataset_source,\n",
    "        context=context_message,\n",
    "        report_format=report_format\n",
    "    )\n",
    "\n",
    "    # Step 4 — use getllm funciton\n",
    "    llm = get_llm(\"groq\")\n",
    "\n",
    "    # Step 5 — Run the LLM\n",
    "    response = llm.invoke(prompt)\n",
    "\n",
    "    return response.content\n"
   ]
  },
  {
   "cell_type": "code",
   "execution_count": 256,
   "id": "53322373-4e6b-4f3c-950c-0ab3430ef323",
   "metadata": {
    "scrolled": true
   },
   "outputs": [
    {
     "name": "stdout",
     "output_type": "stream",
     "text": [
      "<think>\n",
      "Okay, so I need to write a detailed report based on the findings from the Scaler_Clustering dataset. Let me start by understanding what the dataset contains and what the key insights are.\n",
      "\n",
      "First, the dataset is about company and salary data from Scaler School of Technology, with a total of 153,333 records. There are 36,314 unique companies and 1,881 unique job positions. The job group distribution shows that most are tech roles, followed by non-tech and unknown roles. \n",
      "\n",
      "Looking at the CTC statistics, the average is ₹2,552,644, but the median is much lower at ₹1,000,000. That suggests there's a wide range of salaries, with some extremely high values. The min and max CTC are ₹2 and ₹1,000,150,000, which is a huge difference. The 25th percentile is ₹550,000 and the 75th is ₹1,739,999, so the middle 50% of the data spans from about half a million to almost two million.\n",
      "\n",
      "The top job positions by count are mostly tech roles like backend, fullstack, and frontend engineers. However, the 'other' category has a very high average CTC of ₹4,634,615, which is interesting. The top companies by average CTC have some unusual names, which might be due to encoding or anonymization. The highest paying company has an average CTC of a billion rupees, which is extremely high.\n",
      "\n",
      "In the tech vs non-tech comparison, non-tech roles have a higher average salary than tech roles. That's a bit counterintuitive since tech is usually seen as high-paying. The key insights highlight the highest paying position as director engineering and the highest paying company as one with an average CTC of a billion.\n",
      "\n",
      "I need to structure this into a report. I'll start with an overview, then move into job distribution, CTC stats, top jobs and companies, tech vs non-tech comparison, and key insights. I'll make sure each section has clear headings and subheadings. I should also note any anomalies, like the extremely high CTCs and the unusual company names.\n",
      "\n",
      "I should also consider the implications of non-tech roles paying more on average. Maybe there are factors like seniority or specific industries within non-tech that contribute to this. The 'other' category in job positions is also something to highlight since it's a significant outlier in average salary.\n",
      "\n",
      "I need to present all this information in a clear and user-friendly way, using markdown formatting as specified. I'll avoid any markdown in the thinking process but ensure the final report is properly formatted.\n",
      "</think>\n",
      "\n",
      "```markdown\n",
      "# Scaler School of Technology Salary and Company Dataset Analysis Report (2025)\n",
      "\n",
      "## Dataset Overview\n",
      "\n",
      "This report provides an in-depth analysis of the Scaler_Clustering dataset, which contains salary and company data from Scaler School of Technology. The dataset comprises:\n",
      "\n",
      "- **Total Records**: 153,333\n",
      "- **Unique Companies**: 36,314\n",
      "- **Unique Individuals**: 153,333\n",
      "- **Unique Job Positions**: 1,881\n",
      "\n",
      "## Job Group Distribution\n",
      "\n",
      "The dataset categorizes roles into three main groups:\n",
      "\n",
      "- **Tech Roles**: 109,788 records (71.6%)\n",
      "- **Non-Tech Roles**: 23,357 records (15.2%)\n",
      "- **Unknown Roles**: 20,188 records (13.2%)\n",
      "\n",
      "This distribution indicates a strong dominance of tech roles, followed by non-tech and unknown roles.\n",
      "\n",
      "## CTC Statistics\n",
      "\n",
      "The Cost-to-Company (CTC) data reveals the following key statistics:\n",
      "\n",
      "- **Average CTC**: ₹2,552,644\n",
      "- **Median CTC**: ₹1,000,000\n",
      "- **Minimum CTC**: ₹2\n",
      "- **Maximum CTC**: ₹1,000,150,000\n",
      "- **25th Percentile**: ₹550,000\n",
      "- **75th Percentile**: ₹1,739,999\n",
      "\n",
      "These figures highlight a significant disparity in salaries, with the maximum CTC being extraordinarily high compared to the median and average values.\n",
      "\n",
      "## Top 5 Job Positions by Count\n",
      "\n",
      "The following are the top 5 job positions based on the number of individuals:\n",
      "\n",
      "1. **Backend Engineer**: 33,761 people, Average CTC ₹2,085,778\n",
      "2. **Unknown Role**: 20,188 people, Average CTC ₹2,810,211\n",
      "3. **Fullstack Engineer**: 18,885 people, Average CTC ₹1,965,273\n",
      "4. **Other**: 14,166 people, Average CTC ₹4,634,615\n",
      "5. **Frontend Engineer**: 8,601 people, Average CTC ₹1,927,606\n",
      "\n",
      "The \"Other\" category stands out with the highest average CTC among these positions.\n",
      "\n",
      "## Top 5 Companies by Average CTC\n",
      "\n",
      "The top 5 companies based on average CTC are:\n",
      "\n",
      "1. **whmxw rgsxwo uqxcvnt rxbxnta**: 1 person, Average CTC ₹1,000,150,000\n",
      "2. **aveegaxr xzntqzvnxgzvr hzxctqoxnj**: 1 person, Average CTC ₹250,000,000\n",
      "3. **vbvkgz wvzvav**: 1 person, Average CTC ₹200,000,000\n",
      "4. **hzxiht sqghu ge owyggro**: 1 person, Average CTC ₹200,000,000\n",
      "5. **sxo ntwyzgrgsj**: 1 person, Average CTC ₹200,000,000\n",
      "\n",
      "These companies have notably high average CTCs, with the top company being an outlier at ₹1,000,150,000.\n",
      "\n",
      "## Tech vs Non-Tech Salary Comparison\n",
      "\n",
      "The dataset shows the following average CTCs for different role categories:\n",
      "\n",
      "- **Non-Tech Roles**: 23,357 people, Average CTC ₹3,817,107\n",
      "- **Tech Roles**: 109,788 people, Average CTC ₹2,236,272\n",
      "- **Unknown Roles**: 20,188 people, Average CTC ₹2,810,211\n",
      "\n",
      "Interestingly, non-tech roles have a higher average CTC compared to tech roles, which is a notable finding.\n",
      "\n",
      "## Key Insights\n",
      "\n",
      "- **Highest Paying Position**: Director Engineering, with an average CTC of ₹1,393,750.\n",
      "- **Highest Paying Company**: whmxw rgsxwo uqxcvnt rxbxnta, with an average CTC of ₹1,000,150,000.\n",
      "- **Non-Tech Roles Outperform Tech Roles**: Non-tech roles have higher average salaries than tech roles, which may indicate higher demand or compensation in non-tech sectors.\n",
      "\n",
      "## Conclusion\n",
      "\n",
      "This analysis provides a comprehensive overview of the Scaler_Clustering dataset, highlighting key trends and insights into salary structures across different roles and companies. The findings suggest significant variations in compensation, with non-tech roles and certain companies standing out as high-paying entities.\n",
      "```\n"
     ]
    }
   ],
   "source": [
    "ai_generated_report= get_report_summary_openai(\n",
    "    dataset= agg_df,\n",
    "    dataset_name= \"Scaler_Clustering\",\n",
    "    dataset_source= \"Scaler School of Technology\",\n",
    ")\n",
    "print(ai_generated_report)"
   ]
  },
  {
   "cell_type": "markdown",
   "id": "98d3fb20-b211-4358-8ef6-3f3c1e9b0d0d",
   "metadata": {
    "jp-MarkdownHeadingCollapsed": true
   },
   "source": [
    "# Scaler School of Technology Salary and Company Dataset Analysis Report (2025)\n",
    "\n",
    "## Dataset Overview\n",
    "\n",
    "This report provides an in-depth analysis of the Scaler_Clustering dataset, which contains salary and company data from Scaler School of Technology. The dataset comprises:\n",
    "\n",
    "- **Total Records**: 153,333\n",
    "- **Unique Companies**: 36,314\n",
    "- **Unique Individuals**: 153,333\n",
    "- **Unique Job Positions**: 1,881\n",
    "\n",
    "## Job Group Distribution\n",
    "\n",
    "The dataset categorizes roles into three main groups:\n",
    "\n",
    "- **Tech Roles**: 109,788 records (71.6%)\n",
    "- **Non-Tech Roles**: 23,357 records (15.2%)\n",
    "- **Unknown Roles**: 20,188 records (13.2%)\n",
    "\n",
    "This distribution indicates a strong dominance of tech roles, followed by non-tech and unknown roles.\n",
    "\n",
    "## CTC Statistics\n",
    "\n",
    "The Cost-to-Company (CTC) data reveals the following key statistics:\n",
    "\n",
    "- **Average CTC**: ₹2,552,644\n",
    "- **Median CTC**: ₹1,000,000\n",
    "- **Minimum CTC**: ₹2\n",
    "- **Maximum CTC**: ₹1,000,150,000\n",
    "- **25th Percentile**: ₹550,000\n",
    "- **75th Percentile**: ₹1,739,999\n",
    "\n",
    "These figures highlight a significant disparity in salaries, with the maximum CTC being extraordinarily high compared to the median and average values.\n",
    "\n",
    "## Top 5 Job Positions by Count\n",
    "\n",
    "The following are the top 5 job positions based on the number of individuals:\n",
    "\n",
    "1. **Backend Engineer**: 33,761 people, Average CTC ₹2,085,778\n",
    "2. **Unknown Role**: 20,188 people, Average CTC ₹2,810,211\n",
    "3. **Fullstack Engineer**: 18,885 people, Average CTC ₹1,965,273\n",
    "4. **Other**: 14,166 people, Average CTC ₹4,634,615\n",
    "5. **Frontend Engineer**: 8,601 people, Average CTC ₹1,927,606\n",
    "\n",
    "The \"Other\" category stands out with the highest average CTC among these positions.\n",
    "\n",
    "## Top 5 Companies by Average CTC\n",
    "\n",
    "The top 5 companies based on average CTC are:\n",
    "\n",
    "1. **whmxw rgsxwo uqxcvnt rxbxnta**: 1 person, Average CTC ₹1,000,150,000\n",
    "2. **aveegaxr xzntqzvnxgzvr hzxctqoxnj**: 1 person, Average CTC ₹250,000,000\n",
    "3. **vbvkgz wvzvav**: 1 person, Average CTC ₹200,000,000\n",
    "4. **hzxiht sqghu ge owyggro**: 1 person, Average CTC ₹200,000,000\n",
    "5. **sxo ntwyzgrgsj**: 1 person, Average CTC ₹200,000,000\n",
    "\n",
    "These companies have notably high average CTCs, with the top company being an outlier at ₹1,000,150,000.\n",
    "\n",
    "## Tech vs Non-Tech Salary Comparison\n",
    "\n",
    "The dataset shows the following average CTCs for different role categories:\n",
    "\n",
    "- **Non-Tech Roles**: 23,357 people, Average CTC ₹3,817,107\n",
    "- **Tech Roles**: 109,788 people, Average CTC ₹2,236,272\n",
    "- **Unknown Roles**: 20,188 people, Average CTC ₹2,810,211\n",
    "\n",
    "Interestingly, non-tech roles have a higher average CTC compared to tech roles, which is a notable finding.\n",
    "\n",
    "## Key Insights\n",
    "\n",
    "- **Highest Paying Position**: Director Engineering, with an average CTC of ₹1,393,750.\n",
    "- **Highest Paying Company**: whmxw rgsxwo uqxcvnt rxbxnta, with an average CTC of ₹1,000,150,000.\n",
    "- **Non-Tech Roles Outperform Tech Roles**: Non-tech roles have higher average salaries than tech roles, which may indicate higher demand or compensation in non-tech sectors.\n",
    "\n",
    "## Conclusion\n",
    "\n",
    "This analysis provides a comprehensive overview of the Scaler_Clustering dataset, highlighting key trends and insights into salary structures across different roles and companies. The findings suggest significant variations in compensation, with non-tech roles and certain companies standing out as high-paying entities."
   ]
  },
  {
   "cell_type": "markdown",
   "id": "1a67ff09-eff4-4dd0-8cc6-044a9b63bf73",
   "metadata": {},
   "source": [
    "### Summary among generated reports\n",
    "- **GEMINI** & **GROQ(deepseek-r1-distill-llama-70b)** model gave the best reports\n",
    "- Where as **OPENAI** report summary was not so good missed many points"
   ]
  },
  {
   "cell_type": "markdown",
   "id": "987c0359-8c87-43bf-83de-782434187b88",
   "metadata": {},
   "source": [
    "## Exploratory Data Analysis"
   ]
  },
  {
   "cell_type": "code",
   "execution_count": null,
   "id": "1891a421-f73d-4a55-8533-14424bfc0728",
   "metadata": {},
   "outputs": [],
   "source": []
  }
 ],
 "metadata": {
  "kernelspec": {
   "display_name": "Python 3 (ipykernel)",
   "language": "python",
   "name": "python3"
  },
  "language_info": {
   "codemirror_mode": {
    "name": "ipython",
    "version": 3
   },
   "file_extension": ".py",
   "mimetype": "text/x-python",
   "name": "python",
   "nbconvert_exporter": "python",
   "pygments_lexer": "ipython3",
   "version": "3.13.5"
  }
 },
 "nbformat": 4,
 "nbformat_minor": 5
}
